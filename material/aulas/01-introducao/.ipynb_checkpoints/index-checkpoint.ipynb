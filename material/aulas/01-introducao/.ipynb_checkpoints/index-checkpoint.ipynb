{
 "cells": [
  {
   "cell_type": "markdown",
   "metadata": {},
   "source": [
    "# 01 - Introdução a SuperComputação\n",
    "\n",
    "Como vimos na expositiva, uma solução de alto desempenho depende de três partes:\n",
    "\n",
    "1. algoritmos eficientes\n",
    "2. implementações eficientes\n",
    "3. paralelismo\n",
    "\n",
    "Na atividade de hoje vamos estudar o primeiro ponto e quantificar o efeito de algoritmos eficientes na resolução de um problema complexo. \n",
    "\n",
    "## Problemas estudados em SuperComputação\n",
    "\n",
    "Em Desafios de Programação conhecemos a classe dos problemas NP-completo, que são aqueles que acreditamos não existir nenhum algoritmo determinístico que os resolvem em tempo polinomial. Ou seja, são problemas importantes cuja solução é difícil. Em geral temos classes de algoritmos para resolvê-los:\n",
    "\n",
    "1. ótimos globais: algoritmo que encontra a solução \"correta\" do problema. \n",
    "2. ótimos locais: algoritmo que encontra uma solução \"boa\" e que não pode ser melhorada por pequenas modificações. \n",
    "3. aproximação: algoritmos que garantem estar \"perto o suficiente\" da solução ótima. Este tipo de algoritmo não nos interessa em SuperComputação.\n",
    "\n",
    "Iremos analisar hoje 4 executáveis que resolvem o problema do [Caixeiro Viajante](https://en.wikipedia.org/wiki/Travelling_salesman_problem). \n",
    "\n",
    "1. `busca-local-1` - implementação de um método de busca rápida, porém não ótima.\n",
    "1. `busca-local-1-par` - implementação paralela do programa acima.\n",
    "2. `busca-local-2` - implementação alternativa do mesmo método acima. Os resultados de ambos são idênticos.\n",
    "2. `busca-local-2-par` - implementação paralela do programa acima.\n",
    "\n",
    "!!! important \n",
    "    Não estamos interessados no Caixeiro Viajante em si hoje. Queremos é comparar diferentes maneiras de resolvê-lo para entendermos o papel de técnicas de SuperComputação na velocidade de processamento e nos resultados obtidos. \n",
    "\n",
    "\n",
    "## Ferramental\n",
    "\n",
    "Realizar testes de maneira automatizada é muito importante para quantificar os efeitos de diferentes algoritmos e técnicas de paralelismo. O snippet abaixo executa "
   ]
  },
  {
   "cell_type": "code",
   "execution_count": 19,
   "metadata": {
    "tags": [
     "outputPrepend"
    ]
   },
   "outputs": [
    {
     "name": "stdout",
     "output_type": "stream",
     "text": [
      "Saída: 232.234 0\n",
      "3 0 4 1 2 \n",
      "\n",
      "Stderr: \n",
      "Tempo total(s): 0.007872432999647572\n"
     ]
    }
   ],
   "source": [
    "import subprocess\n",
    "import time\n",
    "\n",
    "with open('entradas-busca-local/in-0.txt') as f:\n",
    "    start = time.perf_counter()\n",
    "    proc = subprocess.run(['./busca-local-1'], input=f.read(), text=True, capture_output=True)\n",
    "    end = time.perf_counter()\n",
    "\n",
    "    print('Saída:', proc.stdout)\n",
    "    print('Stderr:', proc.stderr)\n",
    "    print('Tempo total(s):', end - start)"
   ]
  },
  {
   "cell_type": "markdown",
   "metadata": {},
   "source": [
    "Vamos agora praticar usar este snippet para executar nossos testes automaticamente. \n",
    "\n",
    "!!! example\n",
    "\n",
    "    Crie uma função `roda_com_entrada(executavel, arquivo_in)` que roda o primeiro argumento usando como entrada o conteúdo do segundo argumento. Teste seu código com o executável `busca-local-1` e com o arquivo de entrada `in-0.txt` usado no exemplo acima.\n",
    "\n",
    "    Sua função deverá devolver uma tupla `(stdout,time)` com `stdout` sendo a saída do programa e `time` seu tempo de execução em segundos. "
   ]
  },
  {
   "cell_type": "code",
   "execution_count": 3,
   "metadata": {},
   "outputs": [
    {
     "data": {
      "text/plain": [
       "('232.234 0\\n3 0 4 1 2 \\n', 0.0052994469997429405)"
      ]
     },
     "execution_count": 3,
     "metadata": {},
     "output_type": "execute_result"
    }
   ],
   "source": [
    "# TODO: exercício aqui\n",
    "def roda_com_entrada(executavel, arquivo_in):\n",
    "    with open('entradas-busca-local/'+arquivo_in) as f:\n",
    "        start = time.perf_counter()\n",
    "        proc = subprocess.run(['./'+executavel], input=f.read(), text=True, capture_output=True)\n",
    "        end = time.perf_counter()\n",
    "        \n",
    "        return (proc.stdout, end - start)\n",
    "\n",
    "roda_com_entrada('busca-local-1', 'in-0.txt')"
   ]
  },
  {
   "cell_type": "markdown",
   "metadata": {},
   "source": [
    "## Algoritmos sequenciais\n",
    "\n",
    "Com esse código, vamos criar um relatório interativo que roda nossos testes automaticamente e já plota informações prontas para nossas análises. Vamos começar examinando o desempenho do executável `busca-local-1`.\n",
    "\n",
    "!!! example\n",
    "\n",
    "    Rode o `busca-local` com os arquivos de entrada na pasta `entradas-busca-local`. Guarde os tempos em uma lista.\n",
    "\n",
    "!!! example\n",
    "\n",
    "    Leia o tamanho das entradas dos arquivos  na pasta `entradas-busca-local` e guarde em uma segunda lista.\n",
    "\n",
    "!!! example \n",
    "\n",
    "    Plote o tempo de execução pelo tamanho da entrada usando `matplotlib`"
   ]
  },
  {
   "cell_type": "code",
   "execution_count": 4,
   "metadata": {},
   "outputs": [
    {
     "name": "stdout",
     "output_type": "stream",
     "text": [
      "[0.005993722000312118, 0.005721021000226756, 0.006528937999974005, 0.01859025700014172, 0.08081507299993973, 0.2815663219998896, 0.9449911870001415, 2.413696205999713, 5.646260783999878, 11.704056035000121]\n"
     ]
    }
   ],
   "source": [
    "timers = []\n",
    "for i in range(0, 10):\n",
    "    arq = 'in-'+str(i)+'.txt'\n",
    "    result = roda_com_entrada('busca-local-1', arq)\n",
    "    timers.append(result[1])\n",
    "print(timers)"
   ]
  },
  {
   "cell_type": "code",
   "execution_count": 5,
   "metadata": {},
   "outputs": [
    {
     "name": "stdout",
     "output_type": "stream",
     "text": [
      "[185, 363, 543, 726, 1091, 1458, 1831, 2182, 2542, 2912]\n"
     ]
    }
   ],
   "source": [
    "# TODO: exercício aqui\n",
    "import os\n",
    "sizes = []\n",
    "for i in range(0, 10):\n",
    "    arq = 'in-'+str(i)+'.txt'\n",
    "    sizes.append(os.path.getsize('entradas-busca-local/'+arq))\n",
    "print(sizes)"
   ]
  },
  {
   "cell_type": "code",
   "execution_count": 29,
   "metadata": {},
   "outputs": [
    {
     "data": {
      "image/png": "[encoded data removed]",
      "text/plain": [
       "<Figure size 432x288 with 1 Axes>"
      ]
     },
     "metadata": {
      "needs_background": "light"
     },
     "output_type": "display_data"
    }
   ],
   "source": [
    "import matplotlib.pyplot as plt\n",
    "plt.plot(sizes, timers)\n",
    "plt.title('Tempo de execução pelo tamanho da entrada')\n",
    "plt.xlabel('Tamanho da entrada (Bytes)')\n",
    "plt.ylabel('Tempo de execução (s)')\n",
    "plt.grid()\n",
    "plt.show()"
   ]
  },
  {
   "cell_type": "markdown",
   "metadata": {},
   "source": [
    "!!! example\n",
    "    Repita os três passos acima para o executável `busca-local-2`. Finalize plotando os tempos de execução de ambos os executáveis no mesmo gráfico."
   ]
  },
  {
   "cell_type": "code",
   "execution_count": 28,
   "metadata": {},
   "outputs": [
    {
     "name": "stdout",
     "output_type": "stream",
     "text": [
      "[0.00911723500030348, 0.0076812289998997585, 0.010914311000306043, 0.015836855999623367, 0.03953372199976002, 0.10706239099999948, 0.2565466740006741, 0.4734880289997818, 0.9172478789996603, 1.6202505290002591]\n"
     ]
    },
    {
     "data": {
      "image/png": "[encoded data removed]",
      "text/plain": [
       "<Figure size 432x288 with 1 Axes>"
      ]
     },
     "metadata": {
      "needs_background": "light"
     },
     "output_type": "display_data"
    }
   ],
   "source": [
    "#TODO: seu código aqui\n",
    "timers_2 = []\n",
    "for i in range(0, 10):\n",
    "    arq = 'in-'+str(i)+'.txt'\n",
    "    result = roda_com_entrada('busca-local-2', arq)\n",
    "    timers_2.append(result[1])\n",
    "print(timers_2)\n",
    "\n",
    "\n",
    "plt.plot(sizes, timers, label='busca-local-1')\n",
    "plt.plot(sizes, timers_2, label='busca-local-2')\n",
    "plt.legend()\n",
    "plt.title('Tempo de execução pelo tamanho da entrada')\n",
    "plt.xlabel('Tamanho da entrada (Bytes)')\n",
    "plt.ylabel('Tempo de execução (s)')\n",
    "plt.grid()\n",
    "plt.show()"
   ]
  },
  {
   "cell_type": "markdown",
   "metadata": {},
   "source": [
    "!!! example\n",
    "    Segundo uma coleta de dados informal e altamente confiável, 93,17% dos alunos não colocam legendas nem títulos nos gráficos gerados. Faça isso agora. "
   ]
  },
  {
   "cell_type": "markdown",
   "metadata": {},
   "source": [
    "!!! question medium\n",
    "\n",
    "    Interprete o gráfico que você gerou na linha de cima. \n",
    "\n",
    "\n",
    "\n"
   ]
  },
  {
   "cell_type": "markdown",
   "metadata": {},
   "source": [
    "\n",
    "!!! question medium\n",
    "    Compare manualmente a saída dos programas. Existe diferença em seus resultados?\n",
    "\n"
   ]
  },
  {
   "cell_type": "markdown",
   "metadata": {},
   "source": [
    "#### R:\n",
    "Existe diferença apenas no tempo de execução dos programas."
   ]
  },
  {
   "cell_type": "markdown",
   "metadata": {},
   "source": [
    "!!! question medium \n",
    "    Resgate seus conhecimentos de Desafios de Programação e explique a diferença entre os algoritmos."
   ]
  },
  {
   "cell_type": "markdown",
   "metadata": {},
   "source": [
    "#### R:\n",
    "A diferença entre os algoritmos está na complexidade. O busca-local-1 possui complexidade maior que busca-local-2 e, por isso, demora mais tempo para rodar"
   ]
  },
  {
   "cell_type": "markdown",
   "metadata": {},
   "source": [
    "## Algoritmos paralelos\n",
    "\n",
    "Na discussão inicial da expositiva chegamos à conclusão de que se conseguimos realizar *N* operações em paralelo teremos um ganho de no máximo *N* vezes no desempenho de nosso programa. Nesta parte iremos estudar esta afirmação usando implementações paralelas dos algoritmos da seção anterior. \n",
    "\n",
    "!!! example\n",
    "    Execute os algoritmos paralelos com as mesmas entradas e compare com suas versões paralelas. Use um gráfico para facilitar as comparações"
   ]
  },
  {
   "cell_type": "code",
   "execution_count": 31,
   "metadata": {},
   "outputs": [
    {
     "name": "stdout",
     "output_type": "stream",
     "text": [
      "[0.028167045999907714, 0.025242364999940037, 0.009269350999602466, 0.011120148000372865, 0.02850247300011688, 0.0935953630005315, 0.2034514400002081, 0.5940117290001581, 1.4164694999999483, 2.83231144399997]\n",
      "[0.008535654000297654, 0.006827873000474938, 0.006909173000167357, 0.008380923999538936, 0.015970273999300844, 0.03631291900001088, 0.0708435289998306, 0.15426031700008025, 0.2671312330003275, 0.4414363759997286]\n"
     ]
    },
    {
     "data": {
      "image/png": "[encoded data removed]",
      "text/plain": [
       "<Figure size 432x288 with 1 Axes>"
      ]
     },
     "metadata": {
      "needs_background": "light"
     },
     "output_type": "display_data"
    }
   ],
   "source": [
    "timers_3 = []\n",
    "for i in range(0, 10):\n",
    "    arq = 'in-'+str(i)+'.txt'\n",
    "    result = roda_com_entrada('busca-local-1-par', arq)\n",
    "    timers_3.append(result[1])\n",
    "print(timers_3)\n",
    "\n",
    "timers_4 = []\n",
    "for i in range(0, 10):\n",
    "    arq = 'in-'+str(i)+'.txt'\n",
    "    result = roda_com_entrada('busca-local-2-par', arq)\n",
    "    timers_4.append(result[1])\n",
    "print(timers_4)\n",
    "\n",
    "\n",
    "plt.plot(sizes, timers, label='busca-local-1')\n",
    "plt.plot(sizes, timers_2, label='busca-local-2')\n",
    "plt.plot(sizes, timers_3, label='busca-local-1-par')\n",
    "plt.plot(sizes, timers_4, label='busca-local-2-par')\n",
    "plt.legend()\n",
    "plt.title('Tempo de execução pelo tamanho da entrada')\n",
    "plt.xlabel('Tamanho da entrada (Bytes)')\n",
    "plt.ylabel('Tempo de execução (s)')\n",
    "plt.grid()\n",
    "plt.show()"
   ]
  },
  {
   "cell_type": "markdown",
   "metadata": {},
   "source": [
    "!!! question medium\n",
    "    Compare os tempos obtidos. Qual foi o ganho médio? Quantos *núcleos* a máquina que você está usando possui? Responda comparando cada algoritmo sequencial com sua versão paralela.\n",
    "\n",
    "\n",
    "\n"
   ]
  },
  {
   "cell_type": "code",
   "execution_count": 32,
   "metadata": {},
   "outputs": [
    {
     "name": "stdout",
     "output_type": "stream",
     "text": [
      "21.10821954500034 / 3.4576788550002675 / 5.242140859000756 / 1.0166082719997576\n",
      "A busca-local-2-par teve um ganho de tempo equivalente a:  4.225532587000998 segundos em relação a busca-local-1-par\n"
     ]
    }
   ],
   "source": [
    "busca_1 = sum(timers)\n",
    "busca_2 = sum(timers_2)\n",
    "paralel_1 = sum(timers_3)\n",
    "paralel_2 = sum(timers_4)\n",
    "print(busca_1, '/', busca_2, '/', paralel_1, '/', paralel_2)\n",
    "gain = paralel_1 - paralel_2\n",
    "print('A busca-local-2-par teve um ganho de tempo equivalente a: ', gain, 'segundos em relação a busca-local-1-par')"
   ]
  },
  {
   "cell_type": "markdown",
   "metadata": {},
   "source": [
    "De acordo com a comparação entre os tempos de busca-local-1 e busca-local-1-par é possível perceber que o tempo de busca-local-1 é, aproximadamente, 4x maior que o busca paralelizada significando que a minha máquina possui aproximadamente 4 núcleos. Da mesma forma, o raciocínio funciona para busca-local-2 e busca-local-2-par."
   ]
  },
  {
   "cell_type": "markdown",
   "metadata": {},
   "source": [
    "Já estabelecemos que `busca-local-2` é melhor que `busca-local-1` por ser utilizar um algoritmo mais eficiente e vimos na prática a diferença entre um algoritmo $O(n^3)$ e um algoritmo $O(n^2)$. Vamos agora examinar a seguinte questão."
   ]
  },
  {
   "cell_type": "markdown",
   "metadata": {},
   "source": [
    "!!! cite \"É possível usar paralelismo para tornar `busca-local-1-par` melhor que `busca-local-2`?\"\n",
    "\n"
   ]
  },
  {
   "cell_type": "markdown",
   "metadata": {},
   "source": [
    "!!! example\n",
    "    Compare o desempenho de `busca-local-1-par` com `busca-local-2`. Faça um gráfico"
   ]
  },
  {
   "cell_type": "markdown",
   "metadata": {},
   "source": [
    "#### R:\n",
    "Até aproximadamente 1800 bytes de tamanho de arquivo de entrada o algoritmo da busca-local-1-par é mais eficiente que o algoritmo da busca-local-2. Após isso, os papéis se invertem."
   ]
  },
  {
   "cell_type": "code",
   "execution_count": 33,
   "metadata": {},
   "outputs": [
    {
     "data": {
      "image/png": "[encoded data removed]",
      "text/plain": [
       "<Figure size 432x288 with 1 Axes>"
      ]
     },
     "metadata": {
      "needs_background": "light"
     },
     "output_type": "display_data"
    }
   ],
   "source": [
    "plt.plot(sizes, timers_2, label='busca-local-2')\n",
    "plt.plot(sizes, timers_3, label='busca-local-1-par')\n",
    "plt.legend()\n",
    "plt.title('Tempo de execução pelo tamanho da entrada')\n",
    "plt.xlabel('Tamanho da entrada (Bytes)')\n",
    "plt.ylabel('Tempo de execução (s)')\n",
    "plt.grid()\n",
    "plt.show()"
   ]
  },
  {
   "cell_type": "markdown",
   "metadata": {},
   "source": [
    "!!! question medium\n",
    "    Com base em seu gráfico acima, responda a pergunta: \"É possível usar paralelismo para tornar busca-local-1-par melhor que busca-local-2?\"\n",
    "    \n",
    "#### R:\n",
    "Não é possível, busca-local-1-par já é paralelisada. O que deveria ser feito é melhorar a qualidade do algoritmo\n",
    "\n"
   ]
  },
  {
   "cell_type": "markdown",
   "metadata": {},
   "source": [
    "Vamos agora generalizar a pergunta:\n",
    "\n",
    "!!! question medium\n",
    "    Dados dois algoritmos com complexidades computacionais diferentes, sendo que o primeiro é inferior ao segundo. É possível usar paralelismo para tornar o primeiro mais rápido que o segundo para todos tamanhos de entrada? Assuma que você possui um número fixo de *núcleos*. \n"
   ]
  },
  {
   "cell_type": "markdown",
   "metadata": {},
   "source": [
    "#### R:\n",
    "Somente com paralelismo não é possível realizar tal feito."
   ]
  },
  {
   "cell_type": "code",
   "execution_count": null,
   "metadata": {},
   "outputs": [],
   "source": []
  }
 ],
 "metadata": {
  "kernelspec": {
   "display_name": "Python 3",
   "language": "python",
   "name": "python3"
  },
  "language_info": {
   "codemirror_mode": {
    "name": "ipython",
    "version": 3
   },
   "file_extension": ".py",
   "mimetype": "text/x-python",
   "name": "python",
   "nbconvert_exporter": "python",
   "pygments_lexer": "ipython3",
   "version": "3.7.3"
  }
 },
 "nbformat": 4,
 "nbformat_minor": 4
}
